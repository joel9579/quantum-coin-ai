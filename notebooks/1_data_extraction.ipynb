{
 "cells": [
  {
   "cell_type": "code",
   "execution_count": 1,
   "id": "afc63ee3",
   "metadata": {},
   "outputs": [
    {
     "name": "stdout",
     "output_type": "stream",
     "text": [
      "Date range: 2013-04-29 23:59:59 to 2021-07-06 23:59:59\n"
     ]
    },
    {
     "data": {
      "text/plain": [
       "Index(['SNo', 'Name', 'Symbol', 'Date', 'High', 'Low', 'Open', 'Close',\n",
       "       'Volume', 'Marketcap'],\n",
       "      dtype='object')"
      ]
     },
     "execution_count": 1,
     "metadata": {},
     "output_type": "execute_result"
    }
   ],
   "source": [
    "import pandas as pd\n",
    "import os\n",
    "\n",
    "DATA_DIR = \"C:\\\\Users\\\\mugesh\\\\Downloads\\\\Project - Joel\\\\crypto-forecast-app\\\\data\\\\unpacked\"\n",
    "files = sorted(os.listdir(DATA_DIR))\n",
    "\n",
    "# View available files\n",
    "files[:5]\n",
    "\n",
    "# Load and preview one file\n",
    "btc = pd.read_csv(os.path.join(DATA_DIR, \"coin_Bitcoin.csv\"))\n",
    "btc.head()\n",
    "\n",
    "# Show date range and columns\n",
    "print(f\"Date range: {btc['Date'].min()} to {btc['Date'].max()}\")\n",
    "btc.columns\n"
   ]
  }
 ],
 "metadata": {
  "kernelspec": {
   "display_name": "Python 3",
   "language": "python",
   "name": "python3"
  },
  "language_info": {
   "codemirror_mode": {
    "name": "ipython",
    "version": 3
   },
   "file_extension": ".py",
   "mimetype": "text/x-python",
   "name": "python",
   "nbconvert_exporter": "python",
   "pygments_lexer": "ipython3",
   "version": "3.11.1"
  }
 },
 "nbformat": 4,
 "nbformat_minor": 5
}
